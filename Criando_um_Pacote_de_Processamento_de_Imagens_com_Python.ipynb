{
  "nbformat": 4,
  "nbformat_minor": 0,
  "metadata": {
    "colab": {
      "provenance": [],
      "authorship_tag": "ABX9TyOAHVCte+bwHWgzKRTAxSuN",
      "include_colab_link": true
    },
    "kernelspec": {
      "name": "python3",
      "display_name": "Python 3"
    },
    "language_info": {
      "name": "python"
    }
  },
  "cells": [
    {
      "cell_type": "markdown",
      "metadata": {
        "id": "view-in-github",
        "colab_type": "text"
      },
      "source": [
        "<a href=\"https://colab.research.google.com/github/Kraot/Criando-um-Pacote-de-Processamento-de-Imagens-com-Python/blob/main/Criando_um_Pacote_de_Processamento_de_Imagens_com_Python.ipynb\" target=\"_parent\"><img src=\"https://colab.research.google.com/assets/colab-badge.svg\" alt=\"Open In Colab\"/></a>"
      ]
    },
    {
      "cell_type": "code",
      "execution_count": null,
      "metadata": {
        "id": "GQAA5VWpurMe"
      },
      "outputs": [],
      "source": [
        "from PIL import Image, ImageFilter\n",
        "\n",
        "def apply_grayscale(input_image_path, output_image_path):\n",
        "    image = Image.open(input_image_path)\n",
        "    grayscale_image = image.convert(\"L\")\n",
        "    grayscale_image.save(output_image_path)\n",
        "\n",
        "def apply_blur(input_image_path, output_image_path, radius=5):\n",
        "    image = Image.open(input_image_path)\n",
        "    blurred_image = image.filter(ImageFilter.GaussianBlur(radius))\n",
        "    blurred_image.save(output_image_path)\n"
      ]
    },
    {
      "cell_type": "code",
      "source": [
        "from .processing import apply_grayscale, apply_blur"
      ],
      "metadata": {
        "id": "7ldvye_Gu_zn"
      },
      "execution_count": null,
      "outputs": []
    },
    {
      "cell_type": "code",
      "source": [
        "from setuptools import setup, find_packages\n",
        "\n",
        "setup(\n",
        "    name='image_processor',\n",
        "    version='0.1',\n",
        "    packages=find_packages(),\n",
        "    install_requires=['Pillow'],\n",
        "    description='A simple image processing package',\n",
        "    long_description=open('README.md').read(),\n",
        "    long_description_content_type='text/markdown',\n",
        "    url='https://github.com/Kraot/image_processor',\n",
        "    author='Matheus',\n",
        "    author_email='matheuskraot@gmail.com',\n",
        "    license='MIT',\n",
        "    classifiers=[\n",
        "        'Development Status :: 3 - Alpha',\n",
        "        'Intended Audience :: Developers',\n",
        "        'License :: OSI Approved :: MIT License',\n",
        "        'Programming Language :: Python :: 3',\n",
        "    ],\n",
        ")"
      ],
      "metadata": {
        "id": "AcD0dP1yvHF_"
      },
      "execution_count": null,
      "outputs": []
    },
    {
      "cell_type": "code",
      "source": [
        "import unittest\n",
        "from image_processor import apply_grayscale, apply_blur\n",
        "\n",
        "class TestImageProcessor(unittest.TestCase):\n",
        "    def test_apply_grayscale(self):\n",
        "\n",
        "        apply_grayscale('input.jpg', 'output.jpg')\n",
        "\n",
        "\n",
        "    def test_apply_blur(self):\n",
        "\n",
        "        apply_blur('input.jpg', 'output_blur.jpg')\n",
        "\n",
        "\n",
        "if __name__ == '__main__':\n",
        "    unittest.main()\n"
      ],
      "metadata": {
        "id": "owDI4rUCvL5X"
      },
      "execution_count": null,
      "outputs": []
    },
    {
      "cell_type": "code",
      "source": [
        "pip install twine setuptools wheel\n"
      ],
      "metadata": {
        "id": "BEGBXSgTvTen"
      },
      "execution_count": null,
      "outputs": []
    },
    {
      "cell_type": "code",
      "source": [
        "python setup.py sdist bdist_wheel\n"
      ],
      "metadata": {
        "id": "Dmsq8BQWvbX2"
      },
      "execution_count": null,
      "outputs": []
    },
    {
      "cell_type": "code",
      "source": [
        "twine upload dist/*\n"
      ],
      "metadata": {
        "id": "tmZrZ2BQvfPm"
      },
      "execution_count": null,
      "outputs": []
    },
    {
      "cell_type": "code",
      "source": [
        "pip install image_processor\n"
      ],
      "metadata": {
        "id": "nZyFm-5MvhZe"
      },
      "execution_count": null,
      "outputs": []
    },
    {
      "cell_type": "code",
      "source": [
        "from image_processor import apply_grayscale, apply_blur\n",
        "\n",
        "apply_grayscale('input.jpg', 'grayscale.jpg')\n",
        "apply_blur('input.jpg', 'blurred.jpg', radius=10)\n"
      ],
      "metadata": {
        "id": "5TaeAuzsvoz-"
      },
      "execution_count": null,
      "outputs": []
    }
  ]
}